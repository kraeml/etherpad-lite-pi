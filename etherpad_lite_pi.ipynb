{
 "cells": [
  {
   "cell_type": "markdown",
   "metadata": {},
   "source": [
    "# Installation Etherpad-lite auf dem Pi\n",
    "\n",
    "Grundlage dieser Anleitung ist https://github.com/ghoulmann/raspi-etherpad-lite\n",
    "\n",
    "Zunächst die Paketedatenbank aktualisieren:"
   ]
  },
  {
   "cell_type": "code",
   "execution_count": null,
   "metadata": {
    "collapsed": true
   },
   "outputs": [],
   "source": [
    "sudo apt-get -qq update"
   ]
  },
  {
   "cell_type": "markdown",
   "metadata": {},
   "source": [
    "Dann ggf. fehlende Pakete nachinstallieren."
   ]
  },
  {
   "cell_type": "code",
   "execution_count": null,
   "metadata": {
    "collapsed": true
   },
   "outputs": [],
   "source": [
    "sudo apt-get install -y gzip git-core curl python libssl-dev pkg-config build-essential"
   ]
  },
  {
   "cell_type": "markdown",
   "metadata": {},
   "source": [
    "Etherpad-lite benötigt node-js. Sollte installiert sein."
   ]
  },
  {
   "cell_type": "code",
   "execution_count": null,
   "metadata": {},
   "outputs": [],
   "source": [
    "node --version"
   ]
  },
  {
   "cell_type": "markdown",
   "metadata": {},
   "source": [
    "Variablen mit dem Ort und dem Port. Danach wird etherpad-lite geklonet."
   ]
  },
  {
   "cell_type": "code",
   "execution_count": null,
   "metadata": {},
   "outputs": [],
   "source": [
    "target=/opt/etherpad-lite\n",
    "port=8080\n",
    "#git-clone to /opt/etherpad-lite\n",
    "sudo git clone git://github.com/ether/etherpad-lite.git $target"
   ]
  },
  {
   "cell_type": "markdown",
   "metadata": {},
   "source": [
    "Vorlage kopieren und danach den Port anpassen."
   ]
  },
  {
   "cell_type": "code",
   "execution_count": null,
   "metadata": {
    "collapsed": true
   },
   "outputs": [],
   "source": [
    "#Create settings.json\n",
    "sudo cp $target/settings.json.template $target/settings.json"
   ]
  },
  {
   "cell_type": "code",
   "execution_count": null,
   "metadata": {
    "collapsed": true
   },
   "outputs": [],
   "source": [
    "#configure etherpad\n",
    "sudo sed -i \"s|9001|$port|\" $target/settings.json"
   ]
  },
  {
   "cell_type": "markdown",
   "metadata": {},
   "source": [
    "Die Abhängigkeiten mit Skript nachinstallieren."
   ]
  },
  {
   "cell_type": "code",
   "execution_count": null,
   "metadata": {
    "collapsed": true
   },
   "outputs": [],
   "source": [
    "#Make sure dependencies are up to date\n",
    "sudo $target/bin/installDeps.sh"
   ]
  },
  {
   "cell_type": "markdown",
   "metadata": {},
   "source": [
    "Ein Benuzter der etherpad-lite als Dienst laufen lässt.\n",
    "\n",
    "ToDo: Das Anlegen eines Homeverzeichnises sollte für einen Systembenutzer nicht notwendig sein. Evtl auf /opt/etherpad-lite ändern."
   ]
  },
  {
   "cell_type": "code",
   "execution_count": null,
   "metadata": {
    "collapsed": true
   },
   "outputs": [],
   "source": [
    "#useradd system user named etherpad-lite\n",
    "sudo useradd -MrU etherpad-lite\n",
    "sudo mkdir /home/etherpad-lite\n",
    "sudo chowm etherpad-lite:"
   ]
  },
  {
   "cell_type": "code",
   "execution_count": null,
   "metadata": {
    "collapsed": true
   },
   "outputs": [],
   "source": [
    "#create log directory\n",
    "sudo mkdir -p /var/log/etherpad-lite/"
   ]
  },
  {
   "cell_type": "code",
   "execution_count": null,
   "metadata": {
    "collapsed": true
   },
   "outputs": [],
   "source": [
    "#permissions\n",
    "sudo chown -R etherpad-lite:etherpad-lite $target/\n",
    "sudo chown -R etherpad-lite:etherpad-lite /var/log/etherpad-lite/"
   ]
  },
  {
   "cell_type": "markdown",
   "metadata": {},
   "source": [
    "Erstellen eines Start-Stop (initV) Skriptes."
   ]
  },
  {
   "cell_type": "code",
   "execution_count": null,
   "metadata": {
    "collapsed": true
   },
   "outputs": [],
   "source": [
    "#configure daemon\n",
    "sudo su -c 'cat > /etc/init.d/etherpad-lite <<\"EOF\"\n",
    "#!/bin/sh\n",
    "### BEGIN INIT INFO\n",
    "# Provides:          etherpad-lite\n",
    "# Required-Start:    $local_fs $remote_fs $network $syslog\n",
    "# Required-Stop:     $local_fs $remote_fs $network $syslog\n",
    "# Default-Start:     2 3 4 5\n",
    "# Default-Stop:      0 1 6\n",
    "# Short-Description: starts etherpad lite\n",
    "# Description:       starts etherpad lite using start-stop-daemon\n",
    "### END INIT INFO\n",
    "PATH=\"/usr/local/sbin:/usr/local/bin:/sbin:/bin:/usr/sbin:/usr/bin:/opt/node/bin\"\n",
    "LOGFILE=\"/var/log/etherpad-lite/etherpad-lite.log\"\n",
    "EPLITE_DIR=\"#target#\"\n",
    "EPLITE_BIN=\"bin/safeRun.sh\"\n",
    "USER=\"etherpad-lite\"\n",
    "GROUP=\"etherpad-lite\"\n",
    "DESC=\"Etherpad Lite\"\n",
    "NAME=\"etherpad-lite\"\n",
    "set -e\n",
    ". /lib/lsb/init-functions\n",
    "start() {\n",
    "  echo \"Starting $DESC... \"\n",
    "  \n",
    "\tstart-stop-daemon --start --chuid \"$USER:$GROUP\" --background --make-pidfile --pidfile /var/run/$NAME.pid --exec $EPLITE_DIR/$EPLITE_BIN -- $LOGFILE || true\n",
    "  echo \"done\"\n",
    "}\n",
    "#We need this function to ensure the whole process tree will be killed\n",
    "killtree() {\n",
    "    local _pid=$1\n",
    "    local _sig=${2-TERM}\n",
    "    for _child in $(ps -o pid --no-headers --ppid ${_pid}); do\n",
    "        killtree ${_child} ${_sig}\n",
    "    done\n",
    "    kill -${_sig} ${_pid}\n",
    "}\n",
    "stop() {\n",
    "  echo \"Stopping $DESC... \"\n",
    "   while test -d /proc/$(cat /var/run/$NAME.pid); do\n",
    "    killtree $(cat /var/run/$NAME.pid) 15\n",
    "    sleep 0.5\n",
    "  done\n",
    "  rm /var/run/$NAME.pid\n",
    "  echo \"done\"\n",
    "}\n",
    "status() {\n",
    "  status_of_proc -p /var/run/$NAME.pid \"\" \"etherpad-lite\" && exit 0 || exit $?\n",
    "}\n",
    "case \"$1\" in\n",
    "  start)\n",
    "\t  start\n",
    "\t  ;;\n",
    "  stop)\n",
    "    stop\n",
    "\t  ;;\n",
    "  restart)\n",
    "\t  stop\n",
    "\t  start\n",
    "\t  ;;\n",
    "  status)\n",
    "\t  status\n",
    "\t  ;;\n",
    "  *)\n",
    "\t  echo \"Usage: $NAME {start|stop|restart|status}\" >&2\n",
    "\t  exit 1\n",
    "\t  ;;\n",
    "esac\n",
    "exit 0\n",
    "EOF'"
   ]
  },
  {
   "cell_type": "code",
   "execution_count": null,
   "metadata": {
    "collapsed": true
   },
   "outputs": [],
   "source": [
    "#specify the etherpad install directory\n",
    "sudo sed -i \"s|#target#|$target|\" /etc/init.d/etherpad-lite"
   ]
  },
  {
   "cell_type": "code",
   "execution_count": null,
   "metadata": {
    "collapsed": true
   },
   "outputs": [],
   "source": [
    "#Make daemon file executeable\n",
    "sudo chmod +x /etc/init.d/etherpad-lite"
   ]
  },
  {
   "cell_type": "code",
   "execution_count": null,
   "metadata": {
    "collapsed": true
   },
   "outputs": [],
   "source": [
    "#Configure as a service\n",
    "sudo update-rc.d etherpad-lite defaults"
   ]
  },
  {
   "cell_type": "code",
   "execution_count": null,
   "metadata": {},
   "outputs": [],
   "source": [
    "sudo /etc/init.d/etherpad-lite start"
   ]
  },
  {
   "cell_type": "code",
   "execution_count": null,
   "metadata": {},
   "outputs": [],
   "source": [
    "sudo /etc/init.d/etherpad-lite status"
   ]
  },
  {
   "cell_type": "code",
   "execution_count": null,
   "metadata": {},
   "outputs": [],
   "source": [
    "nmap localhost"
   ]
  },
  {
   "cell_type": "markdown",
   "metadata": {},
   "source": [
    "ToDo: Ändern auf mysql Datenbank."
   ]
  }
 ],
 "metadata": {
  "kernelspec": {
   "display_name": "Bash",
   "language": "bash",
   "name": "bash"
  },
  "language_info": {
   "codemirror_mode": "shell",
   "file_extension": ".sh",
   "mimetype": "text/x-sh",
   "name": "bash"
  }
 },
 "nbformat": 4,
 "nbformat_minor": 2
}
